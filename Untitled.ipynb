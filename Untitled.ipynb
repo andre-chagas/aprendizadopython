{
 "cells": [
  {
   "cell_type": "code",
   "execution_count": null,
   "id": "328f605b-2ea7-4132-9dbd-4593b357b067",
   "metadata": {},
   "outputs": [],
   "source": []
  }
 ],
 "metadata": {
  "kernelspec": {
   "display_name": "",
   "name": ""
  },
  "language_info": {
   "name": ""
  }
 },
 "nbformat": 4,
 "nbformat_minor": 5
}
